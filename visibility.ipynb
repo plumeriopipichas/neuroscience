{
 "cells": [
  {
   "cell_type": "code",
   "execution_count": 1,
   "metadata": {},
   "outputs": [],
   "source": [
    "import networkx as nx\n",
    "import matplotlib.pyplot as plt\n",
    "from pycliques.visibility import visibility_graph\n",
    "from pycliques.dominated import completely_pared_graph, complete_s_collapse"
   ]
  },
  {
   "cell_type": "code",
   "execution_count": 1,
   "metadata": {},
   "outputs": [],
   "source": [
    "def logistic_time_series(iterations=50, start=0.3, parameter=3.8):\n",
    "    def f(x):\n",
    "        return parameter*x*(1-x)\n",
    "    vals = [start]\n",
    "    for i in range(iterations):\n",
    "        new = vals[-1]\n",
    "        vals.append(f(new))\n",
    "    return vals"
   ]
  },
  {
   "cell_type": "code",
   "execution_count": 1,
   "metadata": {},
   "outputs": [],
   "source": [
    "plt.figure(figsize=(10,5))\n",
    "plt.axis([-1,iteraciones+1,0,1])\n",
    "plt.grid(True)\n",
    "vals = logistic_time_series(start=0.8)\n",
    "plt.bar(range(len(vals)),\n",
    "        vals,\n",
    "        width=0.2,\n",
    "        align='center')\n",
    "plt.show()"
   ]
  },
  {
   "cell_type": "code",
   "execution_count": 1,
   "metadata": {},
   "outputs": [],
   "source": [
    "g = visibility_graph(vals)\n",
    "nx.draw(g, with_labels=True)"
   ]
  },
  {
   "cell_type": "code",
   "execution_count": 1,
   "metadata": {},
   "outputs": [],
   "source": [
    "cpg = completely_pared_graph(g)\n",
    "cpg.order()"
   ]
  },
  {
   "cell_type": "code",
   "execution_count": 1,
   "metadata": {},
   "outputs": [],
   "source": [
    "vals = logistic_time_series(iterations=200, start=0.8, parameter=3.4)\n",
    "g = visibility_graph(vals)\n",
    "cpg = completely_pared_graph(g)\n",
    "cpg.order()"
   ]
  },
  {
   "cell_type": "code",
   "execution_count": 1,
   "metadata": {},
   "outputs": [],
   "source": [
    "def file_to_time_series(filename):\n",
    "    with open(filename) as f:\n",
    "        content = f.readlines()\n",
    "    content = [x.strip() for x in content] \n",
    "    content = [float(x) for x in content] \n",
    "    return content"
   ]
  },
  {
   "cell_type": "code",
   "execution_count": 1,
   "metadata": {},
   "outputs": [],
   "source": [
    "time_series = file_to_time_series(\"./SampleSegments/Non-sigh_1.txt\")\n",
    "len(time_series)"
   ]
  },
  {
   "cell_type": "code",
   "execution_count": 1,
   "metadata": {},
   "outputs": [],
   "source": [
    "g = visibility_graph(time_series)"
   ]
  },
  {
   "cell_type": "code",
   "execution_count": 1,
   "metadata": {},
   "outputs": [],
   "source": [
    "nx.draw(g, with_labels=True)"
   ]
  },
  {
   "cell_type": "code",
   "execution_count": 1,
   "metadata": {},
   "outputs": [],
   "source": [
    "time_series2 = [time_series[i] for i in range(len(time_series)) if i % 10 == 0] \n",
    "len(time_series2)"
   ]
  },
  {
   "cell_type": "code",
   "execution_count": 1,
   "metadata": {},
   "outputs": [],
   "source": [
    "g = visibility_graph(time_series2)\n",
    "nx.draw(g, with_labels=True)"
   ]
  },
  {
   "cell_type": "code",
   "execution_count": 1,
   "metadata": {},
   "outputs": [],
   "source": [
    "cpg = completely_pared_graph(g)\n",
    "cpg.order()"
   ]
  },
  {
   "cell_type": "code",
   "execution_count": 1,
   "metadata": {},
   "outputs": [],
   "source": [
    "time_series = file_to_time_series(\"./SampleSegments/Sigh_2.txt\")\n",
    "len(time_series)"
   ]
  },
  {
   "cell_type": "code",
   "execution_count": 1,
   "metadata": {},
   "outputs": [],
   "source": [
    "time_series2 = [time_series[i] for i in range(len(time_series)) if i % 10 == 0] \n",
    "len(time_series2)"
   ]
  },
  {
   "cell_type": "code",
   "execution_count": 1,
   "metadata": {},
   "outputs": [],
   "source": [
    "g = visibility_graph(time_series2)"
   ]
  },
  {
   "cell_type": "code",
   "execution_count": 1,
   "metadata": {},
   "outputs": [],
   "source": [
    "cpg = completely_pared_graph(g)\n",
    "cpg.order()"
   ]
  },
  {
   "cell_type": "code",
   "execution_count": 1,
   "metadata": {},
   "outputs": [],
   "source": [
    "import numpy as np\n",
    "from scipy.spatial import ConvexHull, convex_hull_plot_2d\n",
    "\n",
    "plt.figure(figsize=(20,12))\n",
    "plt.axis([-1,iteraciones+1,0,1])\n",
    "plt.grid(True)\n",
    "vals = logistic_time_series(start=0.2)\n",
    "plt.bar(range(len(vals)),\n",
    "        vals,\n",
    "        width=0.2,\n",
    "        align='center')\n",
    "points = [(i, vals[i]) for i in range(len(vals))]\n",
    "points.append((0,0))\n",
    "points.append((len(vals)-1,0))\n",
    "points = np.array(points)\n",
    "hull = ConvexHull(points)\n",
    "print(\"simplices={}, vertices={}\".format(hull.simplices, hull.vertices))\n",
    "plt.plot(vals, 'ro')\n",
    "outline_color = 'green'\n",
    "for simplex in hull.simplices:\n",
    "    print(\"simplex={}, ps0={}, ps1={}\".format(simplex,points[simplex,0], points[simplex,1]))\n",
    "    plt.plot(points[simplex, 0], points[simplex, 1], '-', linewidth=5, color=outline_color)\n",
    "plt.plot(vals, '-', linewidth=5, color=outline_color)\n",
    "plt.show()"
   ]
  }
 ],
 "metadata": {
  "kernelspec": {
   "display_name": "Python 3",
   "language": "python",
   "name": "python3"
  },
  "language_info": {
   "codemirror_mode": {
    "name": "ipython",
    "version": 3
   },
   "file_extension": ".py",
   "mimetype": "text/x-python",
   "name": "python",
   "nbconvert_exporter": "python",
   "pygments_lexer": "ipython3",
   "version": "3.7.0"
  },
  "org": null
 },
 "nbformat": 4,
 "nbformat_minor": 1
}
