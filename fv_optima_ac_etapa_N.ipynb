{
 "cells": [
  {
   "cell_type": "code",
   "execution_count": 241,
   "metadata": {},
   "outputs": [],
   "source": [
    "import numpy as np\n",
    "import scipy.special as sp\n",
    "from numpy import linalg as al\n",
    "import pandas as pd\n",
    "import networkx as nx\n",
    "import matplotlib.pyplot as plt\n",
    "import csv\n",
    "\n",
    "from itertools import combinations\n",
    "from random import random , choice\n",
    "\n",
    "import winsound\n",
    "\n",
    "\n",
    "#-------------------------------------------------------\n",
    "\n",
    "#funciones varias\n",
    "\n",
    "def graph_from_csv(filename):\n",
    "    df = pd.read_csv(filename, index_col=0)\n",
    "    return nx.from_pandas_adjacency(df)\n",
    "\n",
    "def positiv(graph):\n",
    "    for i in graph.nodes:\n",
    "        graph[i][i]['weight'] = 0\n",
    "    for j in graph.edges:\n",
    "        if graph[j[0]][j[1]]['weight']<0:\n",
    "            graph[j[0]][j[1]]['weight'] = -graph[j[0]][j[1]]['weight'] \n",
    "    return(graph)\n",
    "\n",
    "def random_weighted_graph(the_nodes):\n",
    "    G = nx.Graph()\n",
    "    G.add_nodes_from(the_nodes)\n",
    "    all_edges = combinations(the_nodes, 2)\n",
    "    elist = [(e[0], e[1], random()) for e in all_edges]\n",
    "    G.add_weighted_edges_from(elist)\n",
    "    return G\n",
    "\n",
    "\n",
    "def eigenvalores(A):\n",
    "        av=list(al.eigh(A))\n",
    "    \n",
    "        av[0]=av[0].astype(float)\n",
    "        av[1]=av[1].astype(float)\n",
    "    \n",
    "        for i in range(len(av[0]-1)):\n",
    "            av[0][i]=round(float(av[0][i]),5)\n",
    "    \n",
    "        return av[0]\n",
    "    \n",
    "def eigenvectores(A):\n",
    "        av=list(al.eigh(A))\n",
    "    \n",
    "        av[1]=av[1].astype(float)\n",
    "    \n",
    "        for i in range(len(av[1]-1)):\n",
    "            for j in range(len(av[1][i]-1)):\n",
    "                av[1][i][j]=round(float(av[1][i][j]),3)\n",
    "    \n",
    "        return av[1].T\n",
    "    \n",
    "def Fiedler(G):\n",
    "        lap=nx.laplacian_matrix(G)\n",
    "        print(\"valor Fiedler\")\n",
    "        print(eigenvalores(lap.A)[1])\n",
    "        print(\"vector Fiedler\")\n",
    "        print(eigenvectores(lap.A)[1])\n",
    "        print(\"los eigenvalores\")\n",
    "        print(eigenvalores(lap.A))\n",
    "    \n",
    "    # Función genérica para el cociente de Rayleigh para una matriz y un vector,\n",
    "    \n",
    "def rayleigh(A,v):\n",
    "        numerador = np.dot(np.dot(A,v),v)\n",
    "        denominador = np.dot(v,v)\n",
    "        S = numerador/denominador\n",
    "        return S\n",
    "    \n",
    "def peso_grafica(G):\n",
    "    long=len(G.nodes)\n",
    "    peso=sum([list(G.degree(weight='weight'))[k][1]/2 for k in range(long)])\n",
    "    return(peso)\n",
    "    \n",
    "    \n",
    "def vector_candidato(G): #un vector sencillo candidato a tener cociente de Rayleigh pequeño\n",
    "    grados=[list(G.degree(weight='weight'))[k][1] for k in range(len(G))]\n",
    "\n",
    "    nodo_uno=list(G.nodes)[np.argmin(np.array(grados))]\n",
    "\n",
    "    grados1=[list(G.subgraph(set(G.nodes)-{nodo_uno}).degree(weight='weight'))[k][1] for k in range(len(G)-1)]\n",
    "    #e2=np.where(np.array(grados1)==min(grados1))\n",
    "    nodo_dos=list(G.nodes)[np.argmin(np.array(grados1))]\n",
    "\n",
    "    v=[0]*len(G)\n",
    "    v[np.argmin(np.array(grados))]=1\n",
    "    v[np.argmin(np.array(grados1))]=-1\n",
    "    return(v)\n",
    "\n",
    "def es_completa(G): #revisa si una gráfica es completa; falla si hay nodos conectados a sí mismos\n",
    "    es = True\n",
    "    for i in G.nodes:\n",
    "        if G.degree[i]<len(G.nodes)-1:\n",
    "            es = False\n",
    "            break\n",
    "    return(es)       \n",
    "\n",
    "\n",
    "\n",
    "def otro_maximo_local(G,pasos=11,m=11):\n",
    "    #m = int(np.ceil(len(G.nodes)/2))\n",
    "    grados = np.array([list(G.degree(weight='weight'))[k][1] for k in range(len(G.nodes))])\n",
    "    nuevos_nodos = list(np.array(G.nodes)[np.argsort(grados)[-m:]])\n",
    "    optima = G.subgraph(nuevos_nodos)\n",
    "    subgraf = optima\n",
    "    maximal_ac = conectividad_algebraica(subgraf)\n",
    "    for i in range(pasos):\n",
    "        if len(subgraf.nodes)==len(G.nodes) or len(subgraf.nodes)==1:\n",
    "            break\n",
    "        tres_graficas=[quitar_uno_express(subgraf),optima,poner_uno_express(G,subgraf)]\n",
    "        dos_graficas=[quitar_uno_express(subgraf),poner_uno_express(G,subgraf)]\n",
    "        tres_conectividades=np.array([conectividad_algebraica(k) for k in tres_graficas])\n",
    "        dos_conectividades=np.array([conectividad_algebraica(k) for k in dos_graficas])\n",
    "        optima=tres_graficas[np.argmax(tres_conectividades)]\n",
    "        subgraf=dos_graficas[np.argmax(dos_conectividades)]\n",
    "        \n",
    "    return(optima)\n",
    "    \n",
    "        \n",
    "def pares_vetados(G,cota): #pares de nodos que no pueden estar en subgráfica con valor Fiedler mayor a cota\n",
    "    lap = nx.laplacian_matrix(G)\n",
    "    pares = [tuple([aristas[0],aristas[1]]) for aristas in G.edges if aristas[0]!=aristas[1]]\n",
    "    vetados = []\n",
    "    for pareja in pares:\n",
    "        v = [0]*len(G.nodes)\n",
    "        for k in range(len(G.nodes)):\n",
    "            if list(G.nodes)[k]==pareja[0]:\n",
    "                v[k]=-1\n",
    "            if list(G.nodes)[k]==pareja[1]:\n",
    "                v[k]=1\n",
    "        cociente = rayleigh(lap.A,v)\n",
    "        if cociente<cota:\n",
    "            vetados.append(pareja)\n",
    "    return(vetados)\n",
    "    \n",
    "\n",
    "def subgrafica_optima_ac(G):#Dada una gráfica con pesos, regresa la subgráfica con máximo valor Fiedler\n",
    "    optimal=otro_maximo_local(G)\n",
    "    print(\"Máximo local en subgrafica con nodos\", list(optimal.nodes))\n",
    "    print(\"Longitud\",len(optimal.nodes))\n",
    "    print(\"Valor Fiedler es\", conectividad_algebraica(optimal))\n",
    "    cota = conectividad_algebraica(otro_maximo_local(G))\n",
    "    vets = pares_vetados(G,cota)\n",
    "    print(\"Número de pares vetados es\",len(vets))\n",
    "    G_sp = nx.complete_graph(list(G.nodes))\n",
    "    G_sp.remove_edges_from(vets)\n",
    "    \n",
    "    maximal_ac=cota\n",
    "    for k in range(1,len(G.nodes)-int(np.ceil(cota))+1):\n",
    "        size = len(G.nodes)-k\n",
    "        print(\"\\rArmando lista \", size, \"nodos\",end=\"\")\n",
    "        por_checar=[G.subgraph(nodos) for nodos in list(combinations(G.nodes,size)) if es_completa(G_sp.subgraph(nodos))] \n",
    "        if len(por_checar)>0:\n",
    "            print(\"\\rChecando\",len(por_checar),\"subgráficas de tamaño\", size)\n",
    "        for subgraph in por_checar:\n",
    "            if conectividad_algebraica(subgraph)>maximal_ac:\n",
    "                maximal_ac=conectividad_algebraica(subgraph)\n",
    "                optimal=subgraph\n",
    "                print(\"\\rNuevo máximo es \",maximal_ac,end=\"\")\n",
    "    print(\"El máximo valor Fiedler global se encuentra en\",list(optimal.nodes))\n",
    "    print(\"Longitud\",len(optimal.nodes))\n",
    "    print(\"Valor Fiedler máximo es\",maximal_ac)\n",
    "    return(optimal)\n",
    "    \n",
    "    return(G.subgraph(nodos_selectos))    \n",
    "    \n",
    "\n",
    "#--------------------------------------------------------    \n",
    "\n",
    "#funciones particulares para explorar valores Fiedler de subgráficas de los datos del PSG\n",
    "\n",
    "def quitar_uno_express(S): #regresa la subgrafica con un nodo menos y mayor Fiedler\n",
    "    todos = tuple(S.nodes)\n",
    "    reducidos = [conectividad_algebraica(S.subgraph(set(todos)-{nodo})) for nodo in todos]\n",
    "    weak_link={todos[np.argmax(reducidos)]}\n",
    "    nuevos_nodos = tuple(set(todos)-weak_link)  \n",
    "    \n",
    "    return(S.subgraph(nuevos_nodos))\n",
    "\n",
    "def poner_uno_express(G,S): #regresa la subgrafica con mayor Fiedler de entre las gráficas S más otro nodo\n",
    "    sobrantes=tuple(set(G.nodes)-set(S.nodes))\n",
    "    graficas_aumentadas = [G.subgraph(tuple(set.union(set(S.nodes),{nodo_extra}))) for nodo_extra in sobrantes]\n",
    "    vf_aumentadas = [conectividad_algebraica(aumentadas) for aumentadas in graficas_aumentadas]\n",
    "    optimo = np.argmax(vf_aumentadas)\n",
    "    \n",
    "    return(graficas_aumentadas[optimo])    \n",
    "    \n",
    "\n",
    "def conectividad_algebraica(G):\n",
    "    laplace=nx.laplacian_matrix(G)\n",
    "    return(eigenvalores(laplace.A)[1])"
   ]
  },
  {
   "cell_type": "code",
   "execution_count": 224,
   "metadata": {},
   "outputs": [
    {
     "name": "stdout",
     "output_type": "stream",
     "text": [
      "Fiedler value promedio (de toda la gráfica): 7.483\n",
      "Del máximo local 7.66\n",
      "nodos promedio del OML: 20.4\n"
     ]
    }
   ],
   "source": [
    "all_nodes = ['C3', 'C4', 'CZ', 'EMG', 'F3', 'F4', 'F7', 'F8', 'FP1', 'FP2', 'FZ', 'LOG', 'O1', 'O2', 'P3', 'P4', 'PZ', \n",
    "             'ROG', 'T3', 'T4', 'T5', 'T6']\n",
    "\n",
    "ac_tocho=[]\n",
    "max_locales=[]\n",
    "cuantos_nodos=[]\n",
    "\n",
    "for i in range(10):\n",
    "    G=random_weighted_graph(all_nodes)\n",
    "    ML=otro_maximo_local(G)\n",
    "    ac_tocho.append(conectividad_algebraica(G))\n",
    "    ML=otro_maximo_local(G)\n",
    "    max_locales.append(conectividad_algebraica(ML))\n",
    "    cuantos_nodos.append(len(ML.nodes))\n",
    "\n",
    "print(\"Fiedler value promedio (de toda la gráfica):\",round(np.mean(ac_tocho),3))\n",
    "print(\"Del máximo local\",round(np.mean(max_locales),3))\n",
    "print(\"nodos promedio del OML:\",np.mean(cuantos_nodos))"
   ]
  },
  {
   "cell_type": "code",
   "execution_count": 226,
   "metadata": {},
   "outputs": [
    {
     "name": "stdout",
     "output_type": "stream",
     "text": [
      "Máximo local en subgrafica con nodos ['C3', 'C4', 'CZ', 'EMG', 'F3', 'F4', 'F7', 'F8', 'FP1', 'FP2', 'FZ', 'LOG', 'O1', 'O2', 'P3', 'P4', 'PZ', 'T3', 'T4', 'T5', 'T6']\n",
      "Longitud 21\n",
      "Valor Fiedler es 7.38028\n",
      "Número de pares vetados es 0\n",
      "Checando 22 subgráficas de tamaño 21\n",
      "Checando 231 subgráficas de tamaño 20\n",
      "Checando 1540 subgráficas de tamaño 19\n",
      "Checando 7315 subgráficas de tamaño 18\n",
      "Checando 26334 subgráficas de tamaño 17\n",
      "Checando 74613 subgráficas de tamaño 16\n",
      "Checando 170544 subgráficas de tamaño 15\n",
      "Checando 319770 subgráficas de tamaño 14\n",
      "Checando 497420 subgráficas de tamaño 13\n",
      "Checando 646646 subgráficas de tamaño 12\n",
      "Checando 705432 subgráficas de tamaño 11\n",
      "Checando 646646 subgráficas de tamaño 10\n",
      "Checando 497420 subgráficas de tamaño 9\n",
      "Checando 319770 subgráficas de tamaño 8\n",
      "El máximo valor Fiedler global se encuentra en ['C3', 'C4', 'CZ', 'EMG', 'F3', 'F4', 'F7', 'F8', 'FP1', 'FP2', 'FZ', 'LOG', 'O1', 'O2', 'P3', 'P4', 'PZ', 'T3', 'T4', 'T5', 'T6']\n",
      "Longitud 21\n",
      "Valor Fiedler máximo es 7.38028\n"
     ]
    },
    {
     "data": {
      "text/plain": [
       "<networkx.classes.graph.Graph at 0x2743e5bae50>"
      ]
     },
     "execution_count": 226,
     "metadata": {},
     "output_type": "execute_result"
    }
   ],
   "source": [
    "all_nodes = ['C3', 'C4', 'CZ', 'EMG', 'F3', 'F4', 'F7', 'F8', 'FP1', 'FP2', 'FZ', 'LOG', 'O1', 'O2', 'P3', 'P4', 'PZ', \n",
    "             'ROG', 'T3', 'T4', 'T5', 'T6']\n",
    "\n",
    "G=random_weighted_graph(all_nodes)\n",
    "subgrafica_optima_ac(G)"
   ]
  },
  {
   "cell_type": "code",
   "execution_count": 178,
   "metadata": {},
   "outputs": [
    {
     "name": "stdout",
     "output_type": "stream",
     "text": [
      "Valor Fiedler de la gráfica es 0.00503\n",
      "Máximo local en subgrafica con nodos ['C4', 'CZ', 'F3', 'F4', 'F7', 'FZ', 'O1', 'P4', 'PZ', 'T3', 'T4', 'T5', 'T6']\n",
      "Longitud 13\n",
      "Valor Fiedler es 11.36844\n",
      "Número de pares vetados es 114\n",
      "Checando 1 subgráficas de tamaño 15\n",
      "Checando 15 subgráficas de tamaño 14\n",
      "Checando 106 subgráficas de tamaño 13\n",
      "Checando 467 subgráficas de tamaño 12\n",
      "El máximo valor Fiedler global se encuentra en ['C4', 'CZ', 'F3', 'F4', 'F7', 'FZ', 'O1', 'P4', 'PZ', 'T3', 'T4', 'T5', 'T6']\n",
      "Longitud 13\n",
      "Valor Fiedler máximo es 11.36844\n"
     ]
    }
   ],
   "source": [
    "G = positiv(graph_from_csv('./variaciones/CorrelacionesNs/correls_AEFP.csv'))\n",
    "print(\"Valor Fiedler de la gráfica es\",conectividad_algebraica(G))\n",
    "optima_AEFP=subgrafica_optima_ac(G)"
   ]
  },
  {
   "cell_type": "code",
   "execution_count": 3,
   "metadata": {},
   "outputs": [
    {
     "name": "stdout",
     "output_type": "stream",
     "text": [
      "Valor Fiedler de la gráfica es 3.20352\n",
      "Máximo local en subgrafica con nodos ['C3', 'C4', 'CZ', 'F3', 'F4', 'F7', 'F8', 'FP1', 'FZ', 'P3', 'T3', 'T5', 'T6']\n",
      "Longitud 13\n",
      "Valor Fiedler es 8.73162\n",
      "Número de pares vetados es 22\n",
      "Checando 1 subgráficas de tamaño 19\n",
      "Checandolista  18 nodos 20 subgráficas de tamaño 18\n",
      "Checando 188 subgráficas de tamaño 17\n",
      "Checando 1105 subgráficas de tamaño 16\n",
      "Checando 4556 subgráficas de tamaño 15\n",
      "Checando 14008 subgráficas de tamaño 14\n",
      "Checando 33320 subgráficas de tamaño 13\n",
      "Checando 62764 subgráficas de tamaño 12\n",
      "Checando 95030 subgráficas de tamaño 11\n",
      "Checando 116688 subgráficas de tamaño 10\n",
      "Checando 116688 subgráficas de tamaño 9\n",
      "El máximo valor Fiedler global se encuentra en ['C3', 'C4', 'CZ', 'F3', 'F4', 'F7', 'F8', 'FP1', 'FZ', 'P3', 'T3', 'T5', 'T6']\n",
      "Longitud 13\n",
      "Valor Fiedler máximo es 8.73162\n"
     ]
    }
   ],
   "source": [
    "G = positiv(graph_from_csv('./variaciones/CorrelacionesNs/correls_CLMN.csv'))\n",
    "print(\"Valor Fiedler de la gráfica es\",conectividad_algebraica(G))\n",
    "optima_AEFP=subgrafica_optima_ac(G)"
   ]
  },
  {
   "cell_type": "code",
   "execution_count": 179,
   "metadata": {},
   "outputs": [
    {
     "name": "stdout",
     "output_type": "stream",
     "text": [
      "Valor Fiedler de la gráfica es 0.49411\n",
      "Máximo local en subgrafica con nodos ['C3', 'C4', 'CZ', 'F3', 'F4', 'F7', 'F8', 'FZ', 'O1', 'O2', 'P3', 'P4', 'PZ', 'T3', 'T4']\n",
      "Longitud 15\n",
      "Valor Fiedler es 8.6096\n",
      "Número de pares vetados es 67\n",
      "Checando 1 subgráficas de tamaño 17\n",
      "Checando 18 subgráficas de tamaño 16\n",
      "Checando 151 subgráficas de tamaño 15\n",
      "Checando 786 subgráficas de tamaño 14\n",
      "Checando 2848 subgráficas de tamaño 13\n",
      "Checando 7631 subgráficas de tamaño 12\n",
      "Checando 15665 subgráficas de tamaño 11\n",
      "Checando 25168 subgráficas de tamaño 10\n",
      "Checando 32032 subgráficas de tamaño 9\n",
      "El máximo valor Fiedler global se encuentra en ['C3', 'C4', 'CZ', 'F3', 'F4', 'F7', 'F8', 'FZ', 'O1', 'O2', 'P3', 'P4', 'PZ', 'T3', 'T4']\n",
      "Longitud 15\n",
      "Valor Fiedler máximo es 8.6096\n"
     ]
    }
   ],
   "source": [
    "G = positiv(graph_from_csv('./variaciones/CorrelacionesNs/correls_EMNN.csv'))\n",
    "print(\"Valor Fiedler de la gráfica es\",conectividad_algebraica(G))\n",
    "optima_EMNN=subgrafica_optima_ac(G)"
   ]
  },
  {
   "cell_type": "code",
   "execution_count": 227,
   "metadata": {},
   "outputs": [
    {
     "name": "stdout",
     "output_type": "stream",
     "text": [
      "Valor Fiedler de la gráfica es 0.11089\n",
      "Máximo local en subgrafica con nodos ['PZ', 'O1', 'C3', 'T4', 'LOG', 'T3', 'C4', 'T5', 'T6']\n",
      "Longitud 9\n",
      "Valor Fiedler es 5.84814\n",
      "Número de pares vetados es 122\n",
      "Checando 1 subgráficas de tamaño 13\n",
      "Checando 13 subgráficas de tamaño 12\n",
      "Checando 78 subgráficas de tamaño 11\n",
      "Checando 287 subgráficas de tamaño 10\n",
      "Checando 724 subgráficas de tamaño 9\n",
      "Checando 1323 subgráficas de tamaño 8\n",
      "Checando 1801 subgráficas de tamaño 7\n",
      "Checando 1848 subgráficas de tamaño 6\n",
      "El máximo valor Fiedler global se encuentra en ['PZ', 'O1', 'C3', 'T4', 'LOG', 'T3', 'C4', 'T5', 'T6']\n",
      "Longitud 9\n",
      "Valor Fiedler máximo es 5.84814\n"
     ]
    }
   ],
   "source": [
    "G = positiv(graph_from_csv('./variaciones/CorrelacionesNs/correls_FGH.csv'))\n",
    "print(\"Valor Fiedler de la gráfica es\",conectividad_algebraica(G))\n",
    "optima_FGH=subgrafica_optima_ac(G)"
   ]
  },
  {
   "cell_type": "code",
   "execution_count": 235,
   "metadata": {},
   "outputs": [
    {
     "name": "stdout",
     "output_type": "stream",
     "text": [
      "Valor Fiedler de la gráfica es 0.00479\n",
      "Máximo local en subgrafica con nodos ['C3', 'C4', 'CZ', 'F7', 'F8', 'FP2', 'FZ', 'LOG', 'O1', 'O2', 'P3', 'P4', 'PZ', 'ROG', 'T5', 'T6']\n",
      "Longitud 16\n",
      "Valor Fiedler es 11.21374\n",
      "Número de pares vetados es 69\n",
      "Checando 2 subgráficas de tamaño 17\n",
      "Checando 33 subgráficas de tamaño 16\n",
      "Checando 256 subgráficas de tamaño 15\n",
      "Checando 1240 subgráficas de tamaño 14\n",
      "Checando 4200 subgráficas de tamaño 13\n",
      "Checando 10556 subgráficas de tamaño 12\n",
      "El máximo valor Fiedler global se encuentra en ['C3', 'C4', 'CZ', 'F7', 'F8', 'FP2', 'FZ', 'LOG', 'O1', 'O2', 'P3', 'P4', 'PZ', 'ROG', 'T5', 'T6']\n",
      "Longitud 16\n",
      "Valor Fiedler máximo es 11.21374\n"
     ]
    }
   ],
   "source": [
    "G = positiv(graph_from_csv('./variaciones/CorrelacionesNs/correls_GH.csv'))\n",
    "print(\"Valor Fiedler de la gráfica es\",conectividad_algebraica(G))\n",
    "optima_GH=subgrafica_optima_ac(G)"
   ]
  },
  {
   "cell_type": "code",
   "execution_count": 242,
   "metadata": {},
   "outputs": [
    {
     "name": "stdout",
     "output_type": "stream",
     "text": [
      "Valor Fiedler de la gráfica es 0.69036\n",
      "Máximo local en subgrafica con nodos ['PZ', 'O1', 'C3', 'T4', 'T3', 'CZ', 'P3', 'C4', 'T5', 'T6']\n",
      "Longitud 10\n",
      "Valor Fiedler es 4.34986\n",
      "Número de pares vetados es 44\n",
      "Checando 1 subgráficas de tamaño 16\n",
      "Checando 18 subgráficas de tamaño 15\n",
      "Checando 148 subgráficas de tamaño 14\n",
      "Checando 743 subgráficas de tamaño 13\n",
      "Checando 2560 subgráficas de tamaño 12\n",
      "Checando 6438 subgráficas de tamaño 11\n",
      "Checando 12252 subgráficas de tamaño 10\n",
      "Checando 18031 subgráficas de tamaño 9\n",
      "Checando 20767 subgráficas de tamaño 8\n",
      "Checando 18797 subgráficas de tamaño 7\n",
      "Checando 13329 subgráficas de tamaño 6\n",
      "Checando 7320 subgráficas de tamaño 5\n",
      "El máximo valor Fiedler global se encuentra en ['PZ', 'O1', 'C3', 'CZ', 'P3', 'C4', 'T5', 'T6']\n",
      "Longitud 8\n",
      "Valor Fiedler máximo es 6.15203\n"
     ]
    }
   ],
   "source": [
    "G = positiv(graph_from_csv('./variaciones/CorrelacionesNs/correls_GURM.csv'))\n",
    "print(\"Valor Fiedler de la gráfica es\",conectividad_algebraica(G))\n",
    "optima_GURM=subgrafica_optima_ac(G)\n"
   ]
  },
  {
   "cell_type": "code",
   "execution_count": 243,
   "metadata": {},
   "outputs": [
    {
     "name": "stdout",
     "output_type": "stream",
     "text": [
      "Valor Fiedler de la gráfica es 5.17703\n",
      "Máximo local en subgrafica con nodos ['C3', 'C4', 'CZ', 'F3', 'F4', 'F7', 'F8', 'FZ', 'O1', 'O2', 'P3', 'P4', 'PZ', 'T3', 'T4', 'T5', 'T6']\n",
      "Longitud 17\n",
      "Valor Fiedler es 11.42175\n",
      "Número de pares vetados es 21\n",
      "Checando 1 subgráficas de tamaño 21\n",
      "Checando 21 subgráficas de tamaño 20\n",
      "Checando 210 subgráficas de tamaño 19\n",
      "Checando 1330 subgráficas de tamaño 18\n",
      "Checando 5985 subgráficas de tamaño 17\n",
      "Checando 20349 subgráficas de tamaño 16\n",
      "Checando 54264 subgráficas de tamaño 15\n",
      "Checando 116280 subgráficas de tamaño 14\n",
      "Checando 203490 subgráficas de tamaño 13\n",
      "Checando 293930 subgráficas de tamaño 12\n",
      "El máximo valor Fiedler global se encuentra en ['C3', 'C4', 'CZ', 'F3', 'F4', 'F7', 'F8', 'FP1', 'FP2', 'FZ', 'O1', 'O2', 'P3', 'P4', 'PZ', 'T3', 'T4', 'T5', 'T6']\n",
      "Longitud 19\n",
      "Valor Fiedler máximo es 11.43821\n"
     ]
    }
   ],
   "source": [
    "G = positiv(graph_from_csv('./variaciones/CorrelacionesNs/correls_JANA.csv'))\n",
    "print(\"Valor Fiedler de la gráfica es\",conectividad_algebraica(G))\n",
    "optima_JANA=subgrafica_optima_ac(G)"
   ]
  },
  {
   "cell_type": "code",
   "execution_count": 187,
   "metadata": {},
   "outputs": [
    {
     "name": "stdout",
     "output_type": "stream",
     "text": [
      "Valor Fiedler de la gráfica es 1.59509\n",
      "Máximo local en subgrafica con nodos ['C3', 'C4', 'CZ', 'F4', 'F7', 'F8', 'FP1', 'FP2', 'O1', 'O2', 'P3', 'P4', 'PZ']\n",
      "Longitud 13\n",
      "Valor Fiedler es 11.51337\n",
      "Número de pares vetados es 109\n",
      "Checando 1 subgráficas de tamaño 16\n",
      "Checando 16 subgráficas de tamaño 15\n",
      "Checando 120 subgráficas de tamaño 14\n",
      "Checando 560 subgráficas de tamaño 13\n",
      "Checando 1820 subgráficas de tamaño 12\n",
      "El máximo valor Fiedler global se encuentra en ['C3', 'C4', 'CZ', 'F4', 'F7', 'F8', 'FP1', 'FP2', 'O1', 'O2', 'P3', 'P4', 'PZ']\n",
      "Longitud 13\n",
      "Valor Fiedler máximo es 11.51337\n"
     ]
    }
   ],
   "source": [
    "G = positiv(graph_from_csv('./variaciones/CorrelacionesNs/correls_JGMN.csv'))\n",
    "print(\"Valor Fiedler de la gráfica es\",conectividad_algebraica(G))\n",
    "optima_JGMN=subgrafica_optima_ac(G)"
   ]
  },
  {
   "cell_type": "code",
   "execution_count": 250,
   "metadata": {},
   "outputs": [
    {
     "name": "stdout",
     "output_type": "stream",
     "text": [
      "Valor Fiedler de la gráfica es 0.59396\n",
      "Máximo local en subgrafica con nodos ['C3', 'C4', 'CZ', 'F4', 'F7', 'F8', 'FP1', 'FP2', 'FZ', 'O1', 'O2', 'P3', 'P4', 'PZ', 'T3', 'T4', 'T5', 'T6']\n",
      "Longitud 18\n",
      "Valor Fiedler es 8.50098\n",
      "Número de pares vetados es 69\n",
      "Checando 1 subgráficas de tamaño 18\n",
      "Checando 18 subgráficas de tamaño 17\n",
      "Checando 153 subgráficas de tamaño 16\n",
      "Checando 816 subgráficas de tamaño 15\n",
      "Checando 3060 subgráficas de tamaño 14\n",
      "Checando 8568 subgráficas de tamaño 13\n",
      "Checando 18564 subgráficas de tamaño 12\n",
      "Checando 31824 subgráficas de tamaño 11\n",
      "Checando 43758 subgráficas de tamaño 10\n",
      "Checando 48620 subgráficas de tamaño 9\n",
      "El máximo valor Fiedler global se encuentra en ['C3', 'C4', 'CZ', 'F4', 'F7', 'F8', 'FP1', 'FP2', 'FZ', 'O1', 'O2', 'P3', 'P4', 'PZ', 'T3', 'T4', 'T5', 'T6']\n",
      "Longitud 18\n",
      "Valor Fiedler máximo es 8.50098\n"
     ]
    }
   ],
   "source": [
    "G = positiv(graph_from_csv('./variaciones/CorrelacionesNs/correls_MGNA.csv'))\n",
    "print(\"Valor Fiedler de la gráfica es\",conectividad_algebraica(G))\n",
    "optima_MGNA=subgrafica_optima_ac(G)"
   ]
  },
  {
   "cell_type": "code",
   "execution_count": 245,
   "metadata": {},
   "outputs": [
    {
     "name": "stdout",
     "output_type": "stream",
     "text": [
      "Valor Fiedler de la gráfica es 1.55748\n",
      "Máximo local en subgrafica con nodos ['C3', 'CZ', 'F3', 'F4', 'F7', 'F8', 'FZ', 'O2', 'P4', 'PZ', 'T3', 'T4', 'T5', 'T6']\n",
      "Longitud 14\n",
      "Valor Fiedler es 10.19833\n",
      "Número de pares vetados es 109\n",
      "Checando 1 subgráficas de tamaño 16\n",
      "Checando 16 subgráficas de tamaño 15\n",
      "Checando 120 subgráficas de tamaño 14\n",
      "Checando 560 subgráficas de tamaño 13\n",
      "Checando 1820 subgráficas de tamaño 12\n",
      "Checando 4368 subgráficas de tamaño 11\n",
      "El máximo valor Fiedler global se encuentra en ['C3', 'CZ', 'F3', 'F4', 'F7', 'F8', 'FZ', 'O2', 'P4', 'PZ', 'T3', 'T4', 'T5', 'T6']\n",
      "Longitud 14\n",
      "Valor Fiedler máximo es 10.19833\n"
     ]
    }
   ],
   "source": [
    "G = positiv(graph_from_csv('./variaciones/CorrelacionesNs/correls_MJNN.csv'))\n",
    "print(\"Valor Fiedler de la gráfica es\",conectividad_algebraica(G))\n",
    "optima_MJNN=subgrafica_optima_ac(G)"
   ]
  },
  {
   "cell_type": "code",
   "execution_count": 249,
   "metadata": {},
   "outputs": [
    {
     "name": "stdout",
     "output_type": "stream",
     "text": [
      "Valor Fiedler de la gráfica es 1.25291\n",
      "Máximo local en subgrafica con nodos ['C3', 'C4', 'CZ', 'F3', 'F4', 'F7', 'F8', 'FZ', 'O2', 'PZ', 'T3', 'T4']\n",
      "Longitud 12\n",
      "Valor Fiedler es 7.25326\n",
      "Número de pares vetados es 85\n",
      "Checando 1 subgráficas de tamaño 17\n",
      "Checando 17 subgráficas de tamaño 16\n",
      "Checando 136 subgráficas de tamaño 15\n",
      "Checando 680 subgráficas de tamaño 14\n",
      "Checando 2380 subgráficas de tamaño 13\n",
      "Checando 6188 subgráficas de tamaño 12\n",
      "Checando 12376 subgráficas de tamaño 11\n",
      "Checando 19448 subgráficas de tamaño 10\n",
      "Checando 24311 subgráficas de tamaño 9\n",
      "Checando 24318 subgráficas de tamaño 8\n",
      "El máximo valor Fiedler global se encuentra en ['C3', 'C4', 'CZ', 'F3', 'F4', 'F7', 'F8', 'FZ', 'O2', 'PZ', 'T3', 'T4']\n",
      "Longitud 12\n",
      "Valor Fiedler máximo es 7.25326\n"
     ]
    }
   ],
   "source": [
    "G = positiv(graph_from_csv('./variaciones/CorrelacionesNs/correls_PCM.csv'))\n",
    "print(\"Valor Fiedler de la gráfica es\",conectividad_algebraica(G))\n",
    "optima_PCM=subgrafica_optima_ac(G)"
   ]
  },
  {
   "cell_type": "code",
   "execution_count": 246,
   "metadata": {},
   "outputs": [
    {
     "name": "stdout",
     "output_type": "stream",
     "text": [
      "Valor Fiedler de la gráfica es 0.52372\n",
      "Máximo local en subgrafica con nodos ['C3', 'C4', 'F3', 'F4', 'F7', 'F8', 'FZ', 'LOG', 'O2', 'P3', 'PZ', 'ROG', 'T3', 'T4']\n",
      "Longitud 14\n",
      "Valor Fiedler es 5.02406\n",
      "Número de pares vetados es 61\n",
      "Checando 1 subgráficas de tamaño 16\n",
      "Checando 16 subgráficas de tamaño 15\n",
      "Checando 120 subgráficas de tamaño 14\n",
      "Checando 560 subgráficas de tamaño 13\n",
      "Checando 1820 subgráficas de tamaño 12\n",
      "Checando 4368 subgráficas de tamaño 11\n",
      "Checando 8008 subgráficas de tamaño 10\n",
      "Checando 11440 subgráficas de tamaño 9\n",
      "Checando 12870 subgráficas de tamaño 8\n",
      "Checando 11441 subgráficas de tamaño 7\n",
      "Checando 8014 subgráficas de tamaño 6\n",
      "El máximo valor Fiedler global se encuentra en ['C3', 'C4', 'F3', 'F4', 'F7', 'F8', 'FZ', 'LOG', 'O2', 'P3', 'PZ', 'ROG', 'T3', 'T4']\n",
      "Longitud 14\n",
      "Valor Fiedler máximo es 5.02406\n"
     ]
    }
   ],
   "source": [
    "G = positiv(graph_from_csv('./variaciones/CorrelacionesNs/correls_RLMN.csv'))\n",
    "print(\"Valor Fiedler de la gráfica es\",conectividad_algebraica(G))\n",
    "optima_RLMN=subgrafica_optima_ac(G)"
   ]
  },
  {
   "cell_type": "code",
   "execution_count": 247,
   "metadata": {},
   "outputs": [
    {
     "name": "stdout",
     "output_type": "stream",
     "text": [
      "Valor Fiedler de la gráfica es 0.11445\n",
      "Máximo local en subgrafica con nodos ['PZ', 'O1', 'T4', 'P4', 'CZ', 'O2', 'P3', 'T5', 'T6']\n",
      "Longitud 9\n",
      "Valor Fiedler es 3.80565\n",
      "Número de pares vetados es 57\n",
      "Checando 1 subgráficas de tamaño 14\n",
      "Checando 17 subgráficas de tamaño 13\n",
      "Checando 127 subgráficas de tamaño 12\n",
      "Checando 563 subgráficas de tamaño 11\n",
      "Checando 1672 subgráficas de tamaño 10\n",
      "Checando 3541 subgráficas de tamaño 9\n",
      "Checando 5535 subgráficas de tamaño 8\n",
      "Checando 6498 subgráficas de tamaño 7\n",
      "Checando 5758 subgráficas de tamaño 6\n",
      "Checando 3828 subgráficas de tamaño 5\n",
      "Checando 1875 subgráficas de tamaño 4\n",
      "El máximo valor Fiedler global se encuentra en ['PZ', 'O1', 'P4', 'O2', 'T6']\n",
      "Longitud 5\n",
      "Valor Fiedler máximo es 4.21676\n"
     ]
    }
   ],
   "source": [
    "G = positiv(graph_from_csv('./variaciones/CorrelacionesNs/correls_RRMN.csv'))\n",
    "print(\"Valor Fiedler de la gráfica es\",conectividad_algebraica(G))\n",
    "optima_RRMN=subgrafica_optima_ac(G)"
   ]
  },
  {
   "cell_type": "code",
   "execution_count": 248,
   "metadata": {},
   "outputs": [
    {
     "name": "stdout",
     "output_type": "stream",
     "text": [
      "Valor Fiedler de la gráfica es 1.63849\n",
      "Máximo local en subgrafica con nodos ['C4', 'CZ', 'F8', 'O1', 'O2', 'P3', 'P4', 'PZ', 'T4', 'T5', 'T6']\n",
      "Longitud 11\n",
      "Valor Fiedler es 5.48322\n",
      "Número de pares vetados es 52\n",
      "Checando 1 subgráficas de tamaño 16\n",
      "Checando 17 subgráficas de tamaño 15\n",
      "Checando 134 subgráficas de tamaño 14\n",
      "Checando 653 subgráficas de tamaño 13\n",
      "Checando 2208 subgráficas de tamaño 12\n",
      "Checando 5501 subgráficas de tamaño 11\n",
      "Checando 10450 subgráficas de tamaño 10\n",
      "Checando 15433 subgráficas de tamaño 9\n",
      "Checando 17889 subgráficas de tamaño 8\n",
      "Checando 16312 subgráficas de tamaño 7\n",
      "Checando 11657 subgráficas de tamaño 6\n",
      "El máximo valor Fiedler global se encuentra en ['C4', 'CZ', 'F8', 'O1', 'O2', 'P3', 'P4', 'PZ', 'T4', 'T5', 'T6']\n",
      "Longitud 11\n",
      "Valor Fiedler máximo es 5.48322\n"
     ]
    }
   ],
   "source": [
    "G = positiv(graph_from_csv('./variaciones/CorrelacionesNs/correls_VCNN.csv'))\n",
    "print(\"Valor Fiedler de la gráfica es\",conectividad_algebraica(G))\n",
    "optima_VCNN=subgrafica_optima_ac(G)"
   ]
  }
 ],
 "metadata": {
  "kernelspec": {
   "display_name": "Python 3",
   "language": "python",
   "name": "python3"
  },
  "language_info": {
   "codemirror_mode": {
    "name": "ipython",
    "version": 3
   },
   "file_extension": ".py",
   "mimetype": "text/x-python",
   "name": "python",
   "nbconvert_exporter": "python",
   "pygments_lexer": "ipython3",
   "version": "3.8.5"
  }
 },
 "nbformat": 4,
 "nbformat_minor": 4
}
